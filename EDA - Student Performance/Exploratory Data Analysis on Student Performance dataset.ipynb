{
  "nbformat": 4,
  "nbformat_minor": 0,
  "metadata": {
    "colab": {
      "provenance": [],
      "toc_visible": true
    },
    "kernelspec": {
      "name": "python3",
      "display_name": "Python 3"
    },
    "language_info": {
      "name": "python"
    }
  },
  "cells": [
    {
      "cell_type": "markdown",
      "source": [
        "# Import Dependencies"
      ],
      "metadata": {
        "id": "1HOhs5lGxAEB"
      }
    },
    {
      "cell_type": "code",
      "execution_count": null,
      "metadata": {
        "id": "S7aFXwPTcC2w"
      },
      "outputs": [],
      "source": [
        "import pandas as pd\n",
        "import matplotlib.pyplot as plt\n",
        "import numpy as np\n",
        "%matplotlib inline"
      ]
    },
    {
      "cell_type": "code",
      "source": [
        "from google.colab import drive\n",
        "drive.mount('/content/drive/')"
      ],
      "metadata": {
        "colab": {
          "base_uri": "https://localhost:8080/"
        },
        "id": "nDHBCRKMehst",
        "outputId": "703a80b8-6aec-471d-e8af-7c6da693f93e"
      },
      "execution_count": null,
      "outputs": [
        {
          "output_type": "stream",
          "name": "stdout",
          "text": [
            "Mounted at /content/drive/\n"
          ]
        }
      ]
    },
    {
      "cell_type": "markdown",
      "source": [
        "# Load Dataset and Print First 10 rows\n",
        "pandas.read_csv(path) function read the .csv file from the 'path' directory.\n",
        "\n",
        "data.head(n) pick first n rows of data dataframe and display() function print these rows."
      ],
      "metadata": {
        "id": "IvS4mHEdw7i1"
      }
    },
    {
      "cell_type": "code",
      "source": [
        "data = pd.read_csv('/content/drive/My Drive/Colab Notebooks/StudentsPerformance.csv')"
      ],
      "metadata": {
        "id": "ILxKLk-XdHaV"
      },
      "execution_count": null,
      "outputs": []
    },
    {
      "cell_type": "code",
      "source": [
        "display(data.head(10))"
      ],
      "metadata": {
        "colab": {
          "base_uri": "https://localhost:8080/",
          "height": 363
        },
        "id": "VMZUOW3SefiJ",
        "outputId": "19479540-383c-4aa7-8d60-a22d2cab056d"
      },
      "execution_count": null,
      "outputs": [
        {
          "output_type": "display_data",
          "data": {
            "text/plain": [
              "   gender race/ethnicity parental level of education         lunch  \\\n",
              "0  female        group B           bachelor's degree      standard   \n",
              "1  female        group C                some college      standard   \n",
              "2  female        group B             master's degree      standard   \n",
              "3    male        group A          associate's degree  free/reduced   \n",
              "4    male        group C                some college      standard   \n",
              "5  female        group B          associate's degree      standard   \n",
              "6  female        group B                some college      standard   \n",
              "7    male        group B                some college  free/reduced   \n",
              "8    male        group D                 high school  free/reduced   \n",
              "9  female        group B                 high school  free/reduced   \n",
              "\n",
              "  test preparation course  math score  reading score  writing score  \n",
              "0                    none          72             72             74  \n",
              "1               completed          69             90             88  \n",
              "2                    none          90             95             93  \n",
              "3                    none          47             57             44  \n",
              "4                    none          76             78             75  \n",
              "5                    none          71             83             78  \n",
              "6               completed          88             95             92  \n",
              "7                    none          40             43             39  \n",
              "8               completed          64             64             67  \n",
              "9                    none          38             60             50  "
            ],
            "text/html": [
              "\n",
              "  <div id=\"df-32fd76b3-bbd1-493e-97ea-f56a456c2e27\" class=\"colab-df-container\">\n",
              "    <div>\n",
              "<style scoped>\n",
              "    .dataframe tbody tr th:only-of-type {\n",
              "        vertical-align: middle;\n",
              "    }\n",
              "\n",
              "    .dataframe tbody tr th {\n",
              "        vertical-align: top;\n",
              "    }\n",
              "\n",
              "    .dataframe thead th {\n",
              "        text-align: right;\n",
              "    }\n",
              "</style>\n",
              "<table border=\"1\" class=\"dataframe\">\n",
              "  <thead>\n",
              "    <tr style=\"text-align: right;\">\n",
              "      <th></th>\n",
              "      <th>gender</th>\n",
              "      <th>race/ethnicity</th>\n",
              "      <th>parental level of education</th>\n",
              "      <th>lunch</th>\n",
              "      <th>test preparation course</th>\n",
              "      <th>math score</th>\n",
              "      <th>reading score</th>\n",
              "      <th>writing score</th>\n",
              "    </tr>\n",
              "  </thead>\n",
              "  <tbody>\n",
              "    <tr>\n",
              "      <th>0</th>\n",
              "      <td>female</td>\n",
              "      <td>group B</td>\n",
              "      <td>bachelor's degree</td>\n",
              "      <td>standard</td>\n",
              "      <td>none</td>\n",
              "      <td>72</td>\n",
              "      <td>72</td>\n",
              "      <td>74</td>\n",
              "    </tr>\n",
              "    <tr>\n",
              "      <th>1</th>\n",
              "      <td>female</td>\n",
              "      <td>group C</td>\n",
              "      <td>some college</td>\n",
              "      <td>standard</td>\n",
              "      <td>completed</td>\n",
              "      <td>69</td>\n",
              "      <td>90</td>\n",
              "      <td>88</td>\n",
              "    </tr>\n",
              "    <tr>\n",
              "      <th>2</th>\n",
              "      <td>female</td>\n",
              "      <td>group B</td>\n",
              "      <td>master's degree</td>\n",
              "      <td>standard</td>\n",
              "      <td>none</td>\n",
              "      <td>90</td>\n",
              "      <td>95</td>\n",
              "      <td>93</td>\n",
              "    </tr>\n",
              "    <tr>\n",
              "      <th>3</th>\n",
              "      <td>male</td>\n",
              "      <td>group A</td>\n",
              "      <td>associate's degree</td>\n",
              "      <td>free/reduced</td>\n",
              "      <td>none</td>\n",
              "      <td>47</td>\n",
              "      <td>57</td>\n",
              "      <td>44</td>\n",
              "    </tr>\n",
              "    <tr>\n",
              "      <th>4</th>\n",
              "      <td>male</td>\n",
              "      <td>group C</td>\n",
              "      <td>some college</td>\n",
              "      <td>standard</td>\n",
              "      <td>none</td>\n",
              "      <td>76</td>\n",
              "      <td>78</td>\n",
              "      <td>75</td>\n",
              "    </tr>\n",
              "    <tr>\n",
              "      <th>5</th>\n",
              "      <td>female</td>\n",
              "      <td>group B</td>\n",
              "      <td>associate's degree</td>\n",
              "      <td>standard</td>\n",
              "      <td>none</td>\n",
              "      <td>71</td>\n",
              "      <td>83</td>\n",
              "      <td>78</td>\n",
              "    </tr>\n",
              "    <tr>\n",
              "      <th>6</th>\n",
              "      <td>female</td>\n",
              "      <td>group B</td>\n",
              "      <td>some college</td>\n",
              "      <td>standard</td>\n",
              "      <td>completed</td>\n",
              "      <td>88</td>\n",
              "      <td>95</td>\n",
              "      <td>92</td>\n",
              "    </tr>\n",
              "    <tr>\n",
              "      <th>7</th>\n",
              "      <td>male</td>\n",
              "      <td>group B</td>\n",
              "      <td>some college</td>\n",
              "      <td>free/reduced</td>\n",
              "      <td>none</td>\n",
              "      <td>40</td>\n",
              "      <td>43</td>\n",
              "      <td>39</td>\n",
              "    </tr>\n",
              "    <tr>\n",
              "      <th>8</th>\n",
              "      <td>male</td>\n",
              "      <td>group D</td>\n",
              "      <td>high school</td>\n",
              "      <td>free/reduced</td>\n",
              "      <td>completed</td>\n",
              "      <td>64</td>\n",
              "      <td>64</td>\n",
              "      <td>67</td>\n",
              "    </tr>\n",
              "    <tr>\n",
              "      <th>9</th>\n",
              "      <td>female</td>\n",
              "      <td>group B</td>\n",
              "      <td>high school</td>\n",
              "      <td>free/reduced</td>\n",
              "      <td>none</td>\n",
              "      <td>38</td>\n",
              "      <td>60</td>\n",
              "      <td>50</td>\n",
              "    </tr>\n",
              "  </tbody>\n",
              "</table>\n",
              "</div>\n",
              "    <div class=\"colab-df-buttons\">\n",
              "\n",
              "  <div class=\"colab-df-container\">\n",
              "    <button class=\"colab-df-convert\" onclick=\"convertToInteractive('df-32fd76b3-bbd1-493e-97ea-f56a456c2e27')\"\n",
              "            title=\"Convert this dataframe to an interactive table.\"\n",
              "            style=\"display:none;\">\n",
              "\n",
              "  <svg xmlns=\"http://www.w3.org/2000/svg\" height=\"24px\" viewBox=\"0 -960 960 960\">\n",
              "    <path d=\"M120-120v-720h720v720H120Zm60-500h600v-160H180v160Zm220 220h160v-160H400v160Zm0 220h160v-160H400v160ZM180-400h160v-160H180v160Zm440 0h160v-160H620v160ZM180-180h160v-160H180v160Zm440 0h160v-160H620v160Z\"/>\n",
              "  </svg>\n",
              "    </button>\n",
              "\n",
              "  <style>\n",
              "    .colab-df-container {\n",
              "      display:flex;\n",
              "      gap: 12px;\n",
              "    }\n",
              "\n",
              "    .colab-df-convert {\n",
              "      background-color: #E8F0FE;\n",
              "      border: none;\n",
              "      border-radius: 50%;\n",
              "      cursor: pointer;\n",
              "      display: none;\n",
              "      fill: #1967D2;\n",
              "      height: 32px;\n",
              "      padding: 0 0 0 0;\n",
              "      width: 32px;\n",
              "    }\n",
              "\n",
              "    .colab-df-convert:hover {\n",
              "      background-color: #E2EBFA;\n",
              "      box-shadow: 0px 1px 2px rgba(60, 64, 67, 0.3), 0px 1px 3px 1px rgba(60, 64, 67, 0.15);\n",
              "      fill: #174EA6;\n",
              "    }\n",
              "\n",
              "    .colab-df-buttons div {\n",
              "      margin-bottom: 4px;\n",
              "    }\n",
              "\n",
              "    [theme=dark] .colab-df-convert {\n",
              "      background-color: #3B4455;\n",
              "      fill: #D2E3FC;\n",
              "    }\n",
              "\n",
              "    [theme=dark] .colab-df-convert:hover {\n",
              "      background-color: #434B5C;\n",
              "      box-shadow: 0px 1px 3px 1px rgba(0, 0, 0, 0.15);\n",
              "      filter: drop-shadow(0px 1px 2px rgba(0, 0, 0, 0.3));\n",
              "      fill: #FFFFFF;\n",
              "    }\n",
              "  </style>\n",
              "\n",
              "    <script>\n",
              "      const buttonEl =\n",
              "        document.querySelector('#df-32fd76b3-bbd1-493e-97ea-f56a456c2e27 button.colab-df-convert');\n",
              "      buttonEl.style.display =\n",
              "        google.colab.kernel.accessAllowed ? 'block' : 'none';\n",
              "\n",
              "      async function convertToInteractive(key) {\n",
              "        const element = document.querySelector('#df-32fd76b3-bbd1-493e-97ea-f56a456c2e27');\n",
              "        const dataTable =\n",
              "          await google.colab.kernel.invokeFunction('convertToInteractive',\n",
              "                                                    [key], {});\n",
              "        if (!dataTable) return;\n",
              "\n",
              "        const docLinkHtml = 'Like what you see? Visit the ' +\n",
              "          '<a target=\"_blank\" href=https://colab.research.google.com/notebooks/data_table.ipynb>data table notebook</a>'\n",
              "          + ' to learn more about interactive tables.';\n",
              "        element.innerHTML = '';\n",
              "        dataTable['output_type'] = 'display_data';\n",
              "        await google.colab.output.renderOutput(dataTable, element);\n",
              "        const docLink = document.createElement('div');\n",
              "        docLink.innerHTML = docLinkHtml;\n",
              "        element.appendChild(docLink);\n",
              "      }\n",
              "    </script>\n",
              "  </div>\n",
              "\n",
              "\n",
              "<div id=\"df-48a7cdbc-aae1-4c4d-ae7a-f06983c22144\">\n",
              "  <button class=\"colab-df-quickchart\" onclick=\"quickchart('df-48a7cdbc-aae1-4c4d-ae7a-f06983c22144')\"\n",
              "            title=\"Suggest charts\"\n",
              "            style=\"display:none;\">\n",
              "\n",
              "<svg xmlns=\"http://www.w3.org/2000/svg\" height=\"24px\"viewBox=\"0 0 24 24\"\n",
              "     width=\"24px\">\n",
              "    <g>\n",
              "        <path d=\"M19 3H5c-1.1 0-2 .9-2 2v14c0 1.1.9 2 2 2h14c1.1 0 2-.9 2-2V5c0-1.1-.9-2-2-2zM9 17H7v-7h2v7zm4 0h-2V7h2v10zm4 0h-2v-4h2v4z\"/>\n",
              "    </g>\n",
              "</svg>\n",
              "  </button>\n",
              "\n",
              "<style>\n",
              "  .colab-df-quickchart {\n",
              "      --bg-color: #E8F0FE;\n",
              "      --fill-color: #1967D2;\n",
              "      --hover-bg-color: #E2EBFA;\n",
              "      --hover-fill-color: #174EA6;\n",
              "      --disabled-fill-color: #AAA;\n",
              "      --disabled-bg-color: #DDD;\n",
              "  }\n",
              "\n",
              "  [theme=dark] .colab-df-quickchart {\n",
              "      --bg-color: #3B4455;\n",
              "      --fill-color: #D2E3FC;\n",
              "      --hover-bg-color: #434B5C;\n",
              "      --hover-fill-color: #FFFFFF;\n",
              "      --disabled-bg-color: #3B4455;\n",
              "      --disabled-fill-color: #666;\n",
              "  }\n",
              "\n",
              "  .colab-df-quickchart {\n",
              "    background-color: var(--bg-color);\n",
              "    border: none;\n",
              "    border-radius: 50%;\n",
              "    cursor: pointer;\n",
              "    display: none;\n",
              "    fill: var(--fill-color);\n",
              "    height: 32px;\n",
              "    padding: 0;\n",
              "    width: 32px;\n",
              "  }\n",
              "\n",
              "  .colab-df-quickchart:hover {\n",
              "    background-color: var(--hover-bg-color);\n",
              "    box-shadow: 0 1px 2px rgba(60, 64, 67, 0.3), 0 1px 3px 1px rgba(60, 64, 67, 0.15);\n",
              "    fill: var(--button-hover-fill-color);\n",
              "  }\n",
              "\n",
              "  .colab-df-quickchart-complete:disabled,\n",
              "  .colab-df-quickchart-complete:disabled:hover {\n",
              "    background-color: var(--disabled-bg-color);\n",
              "    fill: var(--disabled-fill-color);\n",
              "    box-shadow: none;\n",
              "  }\n",
              "\n",
              "  .colab-df-spinner {\n",
              "    border: 2px solid var(--fill-color);\n",
              "    border-color: transparent;\n",
              "    border-bottom-color: var(--fill-color);\n",
              "    animation:\n",
              "      spin 1s steps(1) infinite;\n",
              "  }\n",
              "\n",
              "  @keyframes spin {\n",
              "    0% {\n",
              "      border-color: transparent;\n",
              "      border-bottom-color: var(--fill-color);\n",
              "      border-left-color: var(--fill-color);\n",
              "    }\n",
              "    20% {\n",
              "      border-color: transparent;\n",
              "      border-left-color: var(--fill-color);\n",
              "      border-top-color: var(--fill-color);\n",
              "    }\n",
              "    30% {\n",
              "      border-color: transparent;\n",
              "      border-left-color: var(--fill-color);\n",
              "      border-top-color: var(--fill-color);\n",
              "      border-right-color: var(--fill-color);\n",
              "    }\n",
              "    40% {\n",
              "      border-color: transparent;\n",
              "      border-right-color: var(--fill-color);\n",
              "      border-top-color: var(--fill-color);\n",
              "    }\n",
              "    60% {\n",
              "      border-color: transparent;\n",
              "      border-right-color: var(--fill-color);\n",
              "    }\n",
              "    80% {\n",
              "      border-color: transparent;\n",
              "      border-right-color: var(--fill-color);\n",
              "      border-bottom-color: var(--fill-color);\n",
              "    }\n",
              "    90% {\n",
              "      border-color: transparent;\n",
              "      border-bottom-color: var(--fill-color);\n",
              "    }\n",
              "  }\n",
              "</style>\n",
              "\n",
              "  <script>\n",
              "    async function quickchart(key) {\n",
              "      const quickchartButtonEl =\n",
              "        document.querySelector('#' + key + ' button');\n",
              "      quickchartButtonEl.disabled = true;  // To prevent multiple clicks.\n",
              "      quickchartButtonEl.classList.add('colab-df-spinner');\n",
              "      try {\n",
              "        const charts = await google.colab.kernel.invokeFunction(\n",
              "            'suggestCharts', [key], {});\n",
              "      } catch (error) {\n",
              "        console.error('Error during call to suggestCharts:', error);\n",
              "      }\n",
              "      quickchartButtonEl.classList.remove('colab-df-spinner');\n",
              "      quickchartButtonEl.classList.add('colab-df-quickchart-complete');\n",
              "    }\n",
              "    (() => {\n",
              "      let quickchartButtonEl =\n",
              "        document.querySelector('#df-48a7cdbc-aae1-4c4d-ae7a-f06983c22144 button');\n",
              "      quickchartButtonEl.style.display =\n",
              "        google.colab.kernel.accessAllowed ? 'block' : 'none';\n",
              "    })();\n",
              "  </script>\n",
              "</div>\n",
              "\n",
              "    </div>\n",
              "  </div>\n"
            ],
            "application/vnd.google.colaboratory.intrinsic+json": {
              "type": "dataframe",
              "summary": "{\n  \"name\": \"display(data\",\n  \"rows\": 10,\n  \"fields\": [\n    {\n      \"column\": \"gender\",\n      \"properties\": {\n        \"dtype\": \"category\",\n        \"num_unique_values\": 2,\n        \"samples\": [\n          \"male\",\n          \"female\"\n        ],\n        \"semantic_type\": \"\",\n        \"description\": \"\"\n      }\n    },\n    {\n      \"column\": \"race/ethnicity\",\n      \"properties\": {\n        \"dtype\": \"category\",\n        \"num_unique_values\": 4,\n        \"samples\": [\n          \"group C\",\n          \"group D\"\n        ],\n        \"semantic_type\": \"\",\n        \"description\": \"\"\n      }\n    },\n    {\n      \"column\": \"parental level of education\",\n      \"properties\": {\n        \"dtype\": \"string\",\n        \"num_unique_values\": 5,\n        \"samples\": [\n          \"some college\",\n          \"high school\"\n        ],\n        \"semantic_type\": \"\",\n        \"description\": \"\"\n      }\n    },\n    {\n      \"column\": \"lunch\",\n      \"properties\": {\n        \"dtype\": \"category\",\n        \"num_unique_values\": 2,\n        \"samples\": [\n          \"free/reduced\",\n          \"standard\"\n        ],\n        \"semantic_type\": \"\",\n        \"description\": \"\"\n      }\n    },\n    {\n      \"column\": \"test preparation course\",\n      \"properties\": {\n        \"dtype\": \"category\",\n        \"num_unique_values\": 2,\n        \"samples\": [\n          \"completed\",\n          \"none\"\n        ],\n        \"semantic_type\": \"\",\n        \"description\": \"\"\n      }\n    },\n    {\n      \"column\": \"math score\",\n      \"properties\": {\n        \"dtype\": \"number\",\n        \"std\": 18,\n        \"min\": 38,\n        \"max\": 90,\n        \"num_unique_values\": 10,\n        \"samples\": [\n          64,\n          69\n        ],\n        \"semantic_type\": \"\",\n        \"description\": \"\"\n      }\n    },\n    {\n      \"column\": \"reading score\",\n      \"properties\": {\n        \"dtype\": \"number\",\n        \"std\": 17,\n        \"min\": 43,\n        \"max\": 95,\n        \"num_unique_values\": 9,\n        \"samples\": [\n          64,\n          90\n        ],\n        \"semantic_type\": \"\",\n        \"description\": \"\"\n      }\n    },\n    {\n      \"column\": \"writing score\",\n      \"properties\": {\n        \"dtype\": \"number\",\n        \"std\": 19,\n        \"min\": 39,\n        \"max\": 93,\n        \"num_unique_values\": 10,\n        \"samples\": [\n          67,\n          88\n        ],\n        \"semantic_type\": \"\",\n        \"description\": \"\"\n      }\n    }\n  ]\n}"
            }
          },
          "metadata": {}
        }
      ]
    },
    {
      "cell_type": "markdown",
      "source": [
        "# Exploratory Data Analysis"
      ],
      "metadata": {
        "id": "HmHKzmI8whY8"
      }
    },
    {
      "cell_type": "markdown",
      "source": [
        "## Finding and Handling Missing Values\n",
        "isnull() function return a dataframe by replacing all null values with boolean True and False otherwise. Here sum() count the number of True values. sort_values(ascending = False) function sort the null values of every columns in descending order."
      ],
      "metadata": {
        "id": "2OGQeVGxwzqt"
      }
    },
    {
      "cell_type": "code",
      "source": [
        "print(data.isnull().sum().sort_values(ascending=False))"
      ],
      "metadata": {
        "colab": {
          "base_uri": "https://localhost:8080/"
        },
        "id": "fXJMfjswiBhN",
        "outputId": "f6a8412d-e558-4d0a-f1e1-87cb40e3e917"
      },
      "execution_count": null,
      "outputs": [
        {
          "output_type": "stream",
          "name": "stdout",
          "text": [
            "gender                         0\n",
            "race/ethnicity                 0\n",
            "parental level of education    0\n",
            "lunch                          0\n",
            "test preparation course        0\n",
            "math score                     0\n",
            "reading score                  0\n",
            "writing score                  0\n",
            "dtype: int64\n"
          ]
        }
      ]
    },
    {
      "cell_type": "markdown",
      "source": [
        "As there are no null values handling of null values is not required."
      ],
      "metadata": {
        "id": "a_DTC_mw4OGA"
      }
    },
    {
      "cell_type": "markdown",
      "source": [
        "## Finding and Handling Outliers\n",
        "An outlier is a piece of data that is an abnormal distance from other points. In other words, it’s data that lies outside the other values in the set.\n",
        "In statistics, outliers are extreme values that lie outside the range of the rest of the data. Whether significantly high or low, outliers deviate from data points that tend to cluster around a central value or follow a certain pattern."
      ],
      "metadata": {
        "id": "dBvke3RIwtAj"
      }
    },
    {
      "cell_type": "markdown",
      "source": [
        "### Interquartile Range (IQR)\n",
        "An outlier is defined as being any point of data that lies over 1.5 IQRs below the first quartile (Q1) or above the third quartile (Q3)in a data set.\n",
        "\n",
        "High = (Q3) + 1.5 IQR\n",
        "\n",
        "Low = (Q1) – 1.5 IQR"
      ],
      "metadata": {
        "id": "IqATdqOuLllP"
      }
    },
    {
      "cell_type": "code",
      "source": [
        "# Finding First Quartile Q1\n",
        "math_Q1 = np.percentile(np.array(data['math score']).reshape(1,len(data)), 25)\n",
        "reading_Q1 = np.percentile(np.array(data['reading score']).reshape(1,len(data)), 25)\n",
        "writing_Q1 = np.percentile(np.array(data['writing score']).reshape(1,len(data)), 25)\n",
        "\n",
        "# Finding Third Quartile Q3\n",
        "math_Q3 = np.percentile(np.array(data['math score']).reshape(1,len(data)), 75)\n",
        "reading_Q3 = np.percentile(np.array(data['reading score']).reshape(1,len(data)), 75)\n",
        "writing_Q3 = np.percentile(np.array(data['writing score']).reshape(1,len(data)), 75)\n",
        "\n",
        "# Finding Interquartile Range (IQR) = Q3 - Q1\n",
        "math_IQR = math_Q3 - math_Q1\n",
        "reading_IQR = reading_Q3 - reading_Q1\n",
        "writing_IQR = writing_Q3 - writing_Q1\n",
        "\n",
        "# Finding Low = Q1 - 1.5 * IQR\n",
        "math_lower = int(math_Q1 - (1.5*math_IQR))\n",
        "reading_lower = int(reading_Q1 - (1.5*reading_IQR))\n",
        "writing_lower = int(writing_Q1 - (1.5*writing_IQR))\n",
        "\n",
        "print(f'lowers : {math_lower,reading_lower,writing_lower}')\n",
        "\n",
        "# Finding High = Q3 + 1.5 * IQR\n",
        "math_upper = int(math_Q3 + (1.5*math_IQR))\n",
        "reading_upper = int(reading_Q3 + (1.5*reading_IQR))\n",
        "writing_upper = int(writing_Q3 + (1.5*writing_IQR))\n",
        "\n",
        "print(f'uppers : {math_upper,reading_upper,writing_upper}')\n"
      ],
      "metadata": {
        "colab": {
          "base_uri": "https://localhost:8080/"
        },
        "id": "wslgGgHhQyOW",
        "outputId": "0c806b43-8df0-4823-fa8e-31d67463be20"
      },
      "execution_count": null,
      "outputs": [
        {
          "output_type": "stream",
          "name": "stdout",
          "text": [
            "lowers : (27, 29, 25)\n",
            "uppers : (107, 109, 110)\n"
          ]
        }
      ]
    },
    {
      "cell_type": "code",
      "source": [
        "# Finding Outliers in different rows math score, reading score and writing score\n",
        "math_outliers = []\n",
        "for x in data['math score']:\n",
        "  if x < math_lower or x > math_upper:\n",
        "    math_outliers.append(x)\n",
        "\n",
        "print(f'Number of outliers in math score {len(math_outliers)} and they are {math_outliers}')\n",
        "\n",
        "reading_outliers = []\n",
        "for x in data['reading score']:\n",
        "  if x < reading_lower or x > reading_upper:\n",
        "    reading_outliers.append(x)\n",
        "\n",
        "print(f'Number of outliers in reading score {len(reading_outliers)} and they are {reading_outliers}')\n",
        "\n",
        "writing_outliers = []\n",
        "for x in data['writing score']:\n",
        "  if x < writing_lower or x > writing_upper:\n",
        "    writing_outliers.append(x)\n",
        "\n",
        "print(f'Number of outliers in writing score {len(writing_outliers)} and they are {writing_outliers}')"
      ],
      "metadata": {
        "colab": {
          "base_uri": "https://localhost:8080/"
        },
        "id": "4wc00Se7Zqec",
        "outputId": "ac10b022-36cc-4f90-fbb5-a8d3cce46229"
      },
      "execution_count": null,
      "outputs": [
        {
          "output_type": "stream",
          "name": "stdout",
          "text": [
            "Number of outliers in math score 8 and they are [18, 0, 22, 24, 26, 19, 23, 8]\n",
            "Number of outliers in reading score 6 and they are [17, 26, 28, 23, 24, 24]\n",
            "Number of outliers in writing score 5 and they are [10, 22, 19, 15, 23]\n"
          ]
        }
      ]
    },
    {
      "cell_type": "markdown",
      "source": [
        "### Handling Outliers (Capping)\n",
        "Capping is a way to impute the outliers with some other values. There can be mean, median or mode or any constant value also (that we gonna do here) leads to the condition where there will be no outliers in the dataset."
      ],
      "metadata": {
        "id": "Umnfx6PPaBo9"
      }
    },
    {
      "cell_type": "code",
      "source": [
        "for i in range(len(data)):\n",
        "  ##row = i\n",
        "  #col = [6,7,8]\n",
        "  x = data.iloc[i,5]\n",
        "  if x < math_lower:\n",
        "    data.iloc[i,5] = math_lower\n",
        "  elif x > math_upper:\n",
        "    data.iloc[i,5] = math_upper\n",
        "\n",
        "  x = data.iloc[i,6]\n",
        "  if x < reading_lower:\n",
        "    data.iloc[i,6] = reading_lower\n",
        "  elif x > reading_upper:\n",
        "    data.iloc[i,6] = reading_upper\n",
        "\n",
        "  x = data.iloc[i,7]\n",
        "  if x < writing_lower:\n",
        "    data.iloc[i,7] = writing_lower\n",
        "  elif x > writing_upper:\n",
        "    data.iloc[i,7] = writing_upper"
      ],
      "metadata": {
        "id": "OHwuaGTzZ0a4"
      },
      "execution_count": null,
      "outputs": []
    },
    {
      "cell_type": "markdown",
      "source": [
        "## Brief Summary of Data\n",
        "DataFrame.describe() generate descriptive statistics. It's parameters are percentiles, include, exclude. It prints count, mean, standard deviation, max, min and 25, 50 and 75 percentile of the dataframe."
      ],
      "metadata": {
        "id": "DeK0kGagwl94"
      }
    },
    {
      "cell_type": "code",
      "source": [
        "data.describe()"
      ],
      "metadata": {
        "colab": {
          "base_uri": "https://localhost:8080/",
          "height": 300
        },
        "id": "AnNZ8rApgbzj",
        "outputId": "9ff54a48-9484-46e2-beae-efea3a843f4a"
      },
      "execution_count": null,
      "outputs": [
        {
          "output_type": "execute_result",
          "data": {
            "text/plain": [
              "       math score  reading score  writing score\n",
              "count  1000.00000    1000.000000    1000.000000\n",
              "mean     66.08900      69.169000      68.054000\n",
              "std      15.16308      14.600192      15.195657\n",
              "min       0.00000      17.000000      10.000000\n",
              "25%      57.00000      59.000000      57.750000\n",
              "50%      66.00000      70.000000      69.000000\n",
              "75%      77.00000      79.000000      79.000000\n",
              "max     100.00000     100.000000     100.000000"
            ],
            "text/html": [
              "\n",
              "  <div id=\"df-ac7ae098-e0c6-4eb5-b5a8-b2ff1cfd34df\" class=\"colab-df-container\">\n",
              "    <div>\n",
              "<style scoped>\n",
              "    .dataframe tbody tr th:only-of-type {\n",
              "        vertical-align: middle;\n",
              "    }\n",
              "\n",
              "    .dataframe tbody tr th {\n",
              "        vertical-align: top;\n",
              "    }\n",
              "\n",
              "    .dataframe thead th {\n",
              "        text-align: right;\n",
              "    }\n",
              "</style>\n",
              "<table border=\"1\" class=\"dataframe\">\n",
              "  <thead>\n",
              "    <tr style=\"text-align: right;\">\n",
              "      <th></th>\n",
              "      <th>math score</th>\n",
              "      <th>reading score</th>\n",
              "      <th>writing score</th>\n",
              "    </tr>\n",
              "  </thead>\n",
              "  <tbody>\n",
              "    <tr>\n",
              "      <th>count</th>\n",
              "      <td>1000.00000</td>\n",
              "      <td>1000.000000</td>\n",
              "      <td>1000.000000</td>\n",
              "    </tr>\n",
              "    <tr>\n",
              "      <th>mean</th>\n",
              "      <td>66.08900</td>\n",
              "      <td>69.169000</td>\n",
              "      <td>68.054000</td>\n",
              "    </tr>\n",
              "    <tr>\n",
              "      <th>std</th>\n",
              "      <td>15.16308</td>\n",
              "      <td>14.600192</td>\n",
              "      <td>15.195657</td>\n",
              "    </tr>\n",
              "    <tr>\n",
              "      <th>min</th>\n",
              "      <td>0.00000</td>\n",
              "      <td>17.000000</td>\n",
              "      <td>10.000000</td>\n",
              "    </tr>\n",
              "    <tr>\n",
              "      <th>25%</th>\n",
              "      <td>57.00000</td>\n",
              "      <td>59.000000</td>\n",
              "      <td>57.750000</td>\n",
              "    </tr>\n",
              "    <tr>\n",
              "      <th>50%</th>\n",
              "      <td>66.00000</td>\n",
              "      <td>70.000000</td>\n",
              "      <td>69.000000</td>\n",
              "    </tr>\n",
              "    <tr>\n",
              "      <th>75%</th>\n",
              "      <td>77.00000</td>\n",
              "      <td>79.000000</td>\n",
              "      <td>79.000000</td>\n",
              "    </tr>\n",
              "    <tr>\n",
              "      <th>max</th>\n",
              "      <td>100.00000</td>\n",
              "      <td>100.000000</td>\n",
              "      <td>100.000000</td>\n",
              "    </tr>\n",
              "  </tbody>\n",
              "</table>\n",
              "</div>\n",
              "    <div class=\"colab-df-buttons\">\n",
              "\n",
              "  <div class=\"colab-df-container\">\n",
              "    <button class=\"colab-df-convert\" onclick=\"convertToInteractive('df-ac7ae098-e0c6-4eb5-b5a8-b2ff1cfd34df')\"\n",
              "            title=\"Convert this dataframe to an interactive table.\"\n",
              "            style=\"display:none;\">\n",
              "\n",
              "  <svg xmlns=\"http://www.w3.org/2000/svg\" height=\"24px\" viewBox=\"0 -960 960 960\">\n",
              "    <path d=\"M120-120v-720h720v720H120Zm60-500h600v-160H180v160Zm220 220h160v-160H400v160Zm0 220h160v-160H400v160ZM180-400h160v-160H180v160Zm440 0h160v-160H620v160ZM180-180h160v-160H180v160Zm440 0h160v-160H620v160Z\"/>\n",
              "  </svg>\n",
              "    </button>\n",
              "\n",
              "  <style>\n",
              "    .colab-df-container {\n",
              "      display:flex;\n",
              "      gap: 12px;\n",
              "    }\n",
              "\n",
              "    .colab-df-convert {\n",
              "      background-color: #E8F0FE;\n",
              "      border: none;\n",
              "      border-radius: 50%;\n",
              "      cursor: pointer;\n",
              "      display: none;\n",
              "      fill: #1967D2;\n",
              "      height: 32px;\n",
              "      padding: 0 0 0 0;\n",
              "      width: 32px;\n",
              "    }\n",
              "\n",
              "    .colab-df-convert:hover {\n",
              "      background-color: #E2EBFA;\n",
              "      box-shadow: 0px 1px 2px rgba(60, 64, 67, 0.3), 0px 1px 3px 1px rgba(60, 64, 67, 0.15);\n",
              "      fill: #174EA6;\n",
              "    }\n",
              "\n",
              "    .colab-df-buttons div {\n",
              "      margin-bottom: 4px;\n",
              "    }\n",
              "\n",
              "    [theme=dark] .colab-df-convert {\n",
              "      background-color: #3B4455;\n",
              "      fill: #D2E3FC;\n",
              "    }\n",
              "\n",
              "    [theme=dark] .colab-df-convert:hover {\n",
              "      background-color: #434B5C;\n",
              "      box-shadow: 0px 1px 3px 1px rgba(0, 0, 0, 0.15);\n",
              "      filter: drop-shadow(0px 1px 2px rgba(0, 0, 0, 0.3));\n",
              "      fill: #FFFFFF;\n",
              "    }\n",
              "  </style>\n",
              "\n",
              "    <script>\n",
              "      const buttonEl =\n",
              "        document.querySelector('#df-ac7ae098-e0c6-4eb5-b5a8-b2ff1cfd34df button.colab-df-convert');\n",
              "      buttonEl.style.display =\n",
              "        google.colab.kernel.accessAllowed ? 'block' : 'none';\n",
              "\n",
              "      async function convertToInteractive(key) {\n",
              "        const element = document.querySelector('#df-ac7ae098-e0c6-4eb5-b5a8-b2ff1cfd34df');\n",
              "        const dataTable =\n",
              "          await google.colab.kernel.invokeFunction('convertToInteractive',\n",
              "                                                    [key], {});\n",
              "        if (!dataTable) return;\n",
              "\n",
              "        const docLinkHtml = 'Like what you see? Visit the ' +\n",
              "          '<a target=\"_blank\" href=https://colab.research.google.com/notebooks/data_table.ipynb>data table notebook</a>'\n",
              "          + ' to learn more about interactive tables.';\n",
              "        element.innerHTML = '';\n",
              "        dataTable['output_type'] = 'display_data';\n",
              "        await google.colab.output.renderOutput(dataTable, element);\n",
              "        const docLink = document.createElement('div');\n",
              "        docLink.innerHTML = docLinkHtml;\n",
              "        element.appendChild(docLink);\n",
              "      }\n",
              "    </script>\n",
              "  </div>\n",
              "\n",
              "\n",
              "<div id=\"df-bed313c4-a23d-4494-87b8-279c3b6ca905\">\n",
              "  <button class=\"colab-df-quickchart\" onclick=\"quickchart('df-bed313c4-a23d-4494-87b8-279c3b6ca905')\"\n",
              "            title=\"Suggest charts\"\n",
              "            style=\"display:none;\">\n",
              "\n",
              "<svg xmlns=\"http://www.w3.org/2000/svg\" height=\"24px\"viewBox=\"0 0 24 24\"\n",
              "     width=\"24px\">\n",
              "    <g>\n",
              "        <path d=\"M19 3H5c-1.1 0-2 .9-2 2v14c0 1.1.9 2 2 2h14c1.1 0 2-.9 2-2V5c0-1.1-.9-2-2-2zM9 17H7v-7h2v7zm4 0h-2V7h2v10zm4 0h-2v-4h2v4z\"/>\n",
              "    </g>\n",
              "</svg>\n",
              "  </button>\n",
              "\n",
              "<style>\n",
              "  .colab-df-quickchart {\n",
              "      --bg-color: #E8F0FE;\n",
              "      --fill-color: #1967D2;\n",
              "      --hover-bg-color: #E2EBFA;\n",
              "      --hover-fill-color: #174EA6;\n",
              "      --disabled-fill-color: #AAA;\n",
              "      --disabled-bg-color: #DDD;\n",
              "  }\n",
              "\n",
              "  [theme=dark] .colab-df-quickchart {\n",
              "      --bg-color: #3B4455;\n",
              "      --fill-color: #D2E3FC;\n",
              "      --hover-bg-color: #434B5C;\n",
              "      --hover-fill-color: #FFFFFF;\n",
              "      --disabled-bg-color: #3B4455;\n",
              "      --disabled-fill-color: #666;\n",
              "  }\n",
              "\n",
              "  .colab-df-quickchart {\n",
              "    background-color: var(--bg-color);\n",
              "    border: none;\n",
              "    border-radius: 50%;\n",
              "    cursor: pointer;\n",
              "    display: none;\n",
              "    fill: var(--fill-color);\n",
              "    height: 32px;\n",
              "    padding: 0;\n",
              "    width: 32px;\n",
              "  }\n",
              "\n",
              "  .colab-df-quickchart:hover {\n",
              "    background-color: var(--hover-bg-color);\n",
              "    box-shadow: 0 1px 2px rgba(60, 64, 67, 0.3), 0 1px 3px 1px rgba(60, 64, 67, 0.15);\n",
              "    fill: var(--button-hover-fill-color);\n",
              "  }\n",
              "\n",
              "  .colab-df-quickchart-complete:disabled,\n",
              "  .colab-df-quickchart-complete:disabled:hover {\n",
              "    background-color: var(--disabled-bg-color);\n",
              "    fill: var(--disabled-fill-color);\n",
              "    box-shadow: none;\n",
              "  }\n",
              "\n",
              "  .colab-df-spinner {\n",
              "    border: 2px solid var(--fill-color);\n",
              "    border-color: transparent;\n",
              "    border-bottom-color: var(--fill-color);\n",
              "    animation:\n",
              "      spin 1s steps(1) infinite;\n",
              "  }\n",
              "\n",
              "  @keyframes spin {\n",
              "    0% {\n",
              "      border-color: transparent;\n",
              "      border-bottom-color: var(--fill-color);\n",
              "      border-left-color: var(--fill-color);\n",
              "    }\n",
              "    20% {\n",
              "      border-color: transparent;\n",
              "      border-left-color: var(--fill-color);\n",
              "      border-top-color: var(--fill-color);\n",
              "    }\n",
              "    30% {\n",
              "      border-color: transparent;\n",
              "      border-left-color: var(--fill-color);\n",
              "      border-top-color: var(--fill-color);\n",
              "      border-right-color: var(--fill-color);\n",
              "    }\n",
              "    40% {\n",
              "      border-color: transparent;\n",
              "      border-right-color: var(--fill-color);\n",
              "      border-top-color: var(--fill-color);\n",
              "    }\n",
              "    60% {\n",
              "      border-color: transparent;\n",
              "      border-right-color: var(--fill-color);\n",
              "    }\n",
              "    80% {\n",
              "      border-color: transparent;\n",
              "      border-right-color: var(--fill-color);\n",
              "      border-bottom-color: var(--fill-color);\n",
              "    }\n",
              "    90% {\n",
              "      border-color: transparent;\n",
              "      border-bottom-color: var(--fill-color);\n",
              "    }\n",
              "  }\n",
              "</style>\n",
              "\n",
              "  <script>\n",
              "    async function quickchart(key) {\n",
              "      const quickchartButtonEl =\n",
              "        document.querySelector('#' + key + ' button');\n",
              "      quickchartButtonEl.disabled = true;  // To prevent multiple clicks.\n",
              "      quickchartButtonEl.classList.add('colab-df-spinner');\n",
              "      try {\n",
              "        const charts = await google.colab.kernel.invokeFunction(\n",
              "            'suggestCharts', [key], {});\n",
              "      } catch (error) {\n",
              "        console.error('Error during call to suggestCharts:', error);\n",
              "      }\n",
              "      quickchartButtonEl.classList.remove('colab-df-spinner');\n",
              "      quickchartButtonEl.classList.add('colab-df-quickchart-complete');\n",
              "    }\n",
              "    (() => {\n",
              "      let quickchartButtonEl =\n",
              "        document.querySelector('#df-bed313c4-a23d-4494-87b8-279c3b6ca905 button');\n",
              "      quickchartButtonEl.style.display =\n",
              "        google.colab.kernel.accessAllowed ? 'block' : 'none';\n",
              "    })();\n",
              "  </script>\n",
              "</div>\n",
              "\n",
              "    </div>\n",
              "  </div>\n"
            ],
            "application/vnd.google.colaboratory.intrinsic+json": {
              "type": "dataframe",
              "summary": "{\n  \"name\": \"data\",\n  \"rows\": 8,\n  \"fields\": [\n    {\n      \"column\": \"math score\",\n      \"properties\": {\n        \"dtype\": \"number\",\n        \"std\": 335.8676421540409,\n        \"min\": 0.0,\n        \"max\": 1000.0,\n        \"num_unique_values\": 8,\n        \"samples\": [\n          66.089,\n          66.0,\n          1000.0\n        ],\n        \"semantic_type\": \"\",\n        \"description\": \"\"\n      }\n    },\n    {\n      \"column\": \"reading score\",\n      \"properties\": {\n        \"dtype\": \"number\",\n        \"std\": 334.2004716262942,\n        \"min\": 14.600191937252216,\n        \"max\": 1000.0,\n        \"num_unique_values\": 8,\n        \"samples\": [\n          69.169,\n          70.0,\n          1000.0\n        ],\n        \"semantic_type\": \"\",\n        \"description\": \"\"\n      }\n    },\n    {\n      \"column\": \"writing score\",\n      \"properties\": {\n        \"dtype\": \"number\",\n        \"std\": 334.8025670597152,\n        \"min\": 10.0,\n        \"max\": 1000.0,\n        \"num_unique_values\": 8,\n        \"samples\": [\n          68.054,\n          69.0,\n          1000.0\n        ],\n        \"semantic_type\": \"\",\n        \"description\": \"\"\n      }\n    }\n  ]\n}"
            }
          },
          "metadata": {},
          "execution_count": 5
        }
      ]
    },
    {
      "cell_type": "code",
      "source": [
        "data.describe(include = 'all')"
      ],
      "metadata": {
        "colab": {
          "base_uri": "https://localhost:8080/",
          "height": 394
        },
        "id": "tv6ZJzo--nFU",
        "outputId": "2c3e96fc-b618-4074-fdfd-9c21e7f907f2"
      },
      "execution_count": null,
      "outputs": [
        {
          "output_type": "execute_result",
          "data": {
            "text/plain": [
              "        gender race/ethnicity parental level of education     lunch  \\\n",
              "count     1000           1000                        1000      1000   \n",
              "unique       2              5                           6         2   \n",
              "top     female        group C                some college  standard   \n",
              "freq       518            319                         226       645   \n",
              "mean       NaN            NaN                         NaN       NaN   \n",
              "std        NaN            NaN                         NaN       NaN   \n",
              "min        NaN            NaN                         NaN       NaN   \n",
              "25%        NaN            NaN                         NaN       NaN   \n",
              "50%        NaN            NaN                         NaN       NaN   \n",
              "75%        NaN            NaN                         NaN       NaN   \n",
              "max        NaN            NaN                         NaN       NaN   \n",
              "\n",
              "       test preparation course  math score  reading score  writing score  \n",
              "count                     1000  1000.00000    1000.000000    1000.000000  \n",
              "unique                       2         NaN            NaN            NaN  \n",
              "top                       none         NaN            NaN            NaN  \n",
              "freq                       642         NaN            NaN            NaN  \n",
              "mean                       NaN    66.08900      69.169000      68.054000  \n",
              "std                        NaN    15.16308      14.600192      15.195657  \n",
              "min                        NaN     0.00000      17.000000      10.000000  \n",
              "25%                        NaN    57.00000      59.000000      57.750000  \n",
              "50%                        NaN    66.00000      70.000000      69.000000  \n",
              "75%                        NaN    77.00000      79.000000      79.000000  \n",
              "max                        NaN   100.00000     100.000000     100.000000  "
            ],
            "text/html": [
              "\n",
              "  <div id=\"df-b2caa8cd-ab0a-459e-94bf-5297f3e8c663\" class=\"colab-df-container\">\n",
              "    <div>\n",
              "<style scoped>\n",
              "    .dataframe tbody tr th:only-of-type {\n",
              "        vertical-align: middle;\n",
              "    }\n",
              "\n",
              "    .dataframe tbody tr th {\n",
              "        vertical-align: top;\n",
              "    }\n",
              "\n",
              "    .dataframe thead th {\n",
              "        text-align: right;\n",
              "    }\n",
              "</style>\n",
              "<table border=\"1\" class=\"dataframe\">\n",
              "  <thead>\n",
              "    <tr style=\"text-align: right;\">\n",
              "      <th></th>\n",
              "      <th>gender</th>\n",
              "      <th>race/ethnicity</th>\n",
              "      <th>parental level of education</th>\n",
              "      <th>lunch</th>\n",
              "      <th>test preparation course</th>\n",
              "      <th>math score</th>\n",
              "      <th>reading score</th>\n",
              "      <th>writing score</th>\n",
              "    </tr>\n",
              "  </thead>\n",
              "  <tbody>\n",
              "    <tr>\n",
              "      <th>count</th>\n",
              "      <td>1000</td>\n",
              "      <td>1000</td>\n",
              "      <td>1000</td>\n",
              "      <td>1000</td>\n",
              "      <td>1000</td>\n",
              "      <td>1000.00000</td>\n",
              "      <td>1000.000000</td>\n",
              "      <td>1000.000000</td>\n",
              "    </tr>\n",
              "    <tr>\n",
              "      <th>unique</th>\n",
              "      <td>2</td>\n",
              "      <td>5</td>\n",
              "      <td>6</td>\n",
              "      <td>2</td>\n",
              "      <td>2</td>\n",
              "      <td>NaN</td>\n",
              "      <td>NaN</td>\n",
              "      <td>NaN</td>\n",
              "    </tr>\n",
              "    <tr>\n",
              "      <th>top</th>\n",
              "      <td>female</td>\n",
              "      <td>group C</td>\n",
              "      <td>some college</td>\n",
              "      <td>standard</td>\n",
              "      <td>none</td>\n",
              "      <td>NaN</td>\n",
              "      <td>NaN</td>\n",
              "      <td>NaN</td>\n",
              "    </tr>\n",
              "    <tr>\n",
              "      <th>freq</th>\n",
              "      <td>518</td>\n",
              "      <td>319</td>\n",
              "      <td>226</td>\n",
              "      <td>645</td>\n",
              "      <td>642</td>\n",
              "      <td>NaN</td>\n",
              "      <td>NaN</td>\n",
              "      <td>NaN</td>\n",
              "    </tr>\n",
              "    <tr>\n",
              "      <th>mean</th>\n",
              "      <td>NaN</td>\n",
              "      <td>NaN</td>\n",
              "      <td>NaN</td>\n",
              "      <td>NaN</td>\n",
              "      <td>NaN</td>\n",
              "      <td>66.08900</td>\n",
              "      <td>69.169000</td>\n",
              "      <td>68.054000</td>\n",
              "    </tr>\n",
              "    <tr>\n",
              "      <th>std</th>\n",
              "      <td>NaN</td>\n",
              "      <td>NaN</td>\n",
              "      <td>NaN</td>\n",
              "      <td>NaN</td>\n",
              "      <td>NaN</td>\n",
              "      <td>15.16308</td>\n",
              "      <td>14.600192</td>\n",
              "      <td>15.195657</td>\n",
              "    </tr>\n",
              "    <tr>\n",
              "      <th>min</th>\n",
              "      <td>NaN</td>\n",
              "      <td>NaN</td>\n",
              "      <td>NaN</td>\n",
              "      <td>NaN</td>\n",
              "      <td>NaN</td>\n",
              "      <td>0.00000</td>\n",
              "      <td>17.000000</td>\n",
              "      <td>10.000000</td>\n",
              "    </tr>\n",
              "    <tr>\n",
              "      <th>25%</th>\n",
              "      <td>NaN</td>\n",
              "      <td>NaN</td>\n",
              "      <td>NaN</td>\n",
              "      <td>NaN</td>\n",
              "      <td>NaN</td>\n",
              "      <td>57.00000</td>\n",
              "      <td>59.000000</td>\n",
              "      <td>57.750000</td>\n",
              "    </tr>\n",
              "    <tr>\n",
              "      <th>50%</th>\n",
              "      <td>NaN</td>\n",
              "      <td>NaN</td>\n",
              "      <td>NaN</td>\n",
              "      <td>NaN</td>\n",
              "      <td>NaN</td>\n",
              "      <td>66.00000</td>\n",
              "      <td>70.000000</td>\n",
              "      <td>69.000000</td>\n",
              "    </tr>\n",
              "    <tr>\n",
              "      <th>75%</th>\n",
              "      <td>NaN</td>\n",
              "      <td>NaN</td>\n",
              "      <td>NaN</td>\n",
              "      <td>NaN</td>\n",
              "      <td>NaN</td>\n",
              "      <td>77.00000</td>\n",
              "      <td>79.000000</td>\n",
              "      <td>79.000000</td>\n",
              "    </tr>\n",
              "    <tr>\n",
              "      <th>max</th>\n",
              "      <td>NaN</td>\n",
              "      <td>NaN</td>\n",
              "      <td>NaN</td>\n",
              "      <td>NaN</td>\n",
              "      <td>NaN</td>\n",
              "      <td>100.00000</td>\n",
              "      <td>100.000000</td>\n",
              "      <td>100.000000</td>\n",
              "    </tr>\n",
              "  </tbody>\n",
              "</table>\n",
              "</div>\n",
              "    <div class=\"colab-df-buttons\">\n",
              "\n",
              "  <div class=\"colab-df-container\">\n",
              "    <button class=\"colab-df-convert\" onclick=\"convertToInteractive('df-b2caa8cd-ab0a-459e-94bf-5297f3e8c663')\"\n",
              "            title=\"Convert this dataframe to an interactive table.\"\n",
              "            style=\"display:none;\">\n",
              "\n",
              "  <svg xmlns=\"http://www.w3.org/2000/svg\" height=\"24px\" viewBox=\"0 -960 960 960\">\n",
              "    <path d=\"M120-120v-720h720v720H120Zm60-500h600v-160H180v160Zm220 220h160v-160H400v160Zm0 220h160v-160H400v160ZM180-400h160v-160H180v160Zm440 0h160v-160H620v160ZM180-180h160v-160H180v160Zm440 0h160v-160H620v160Z\"/>\n",
              "  </svg>\n",
              "    </button>\n",
              "\n",
              "  <style>\n",
              "    .colab-df-container {\n",
              "      display:flex;\n",
              "      gap: 12px;\n",
              "    }\n",
              "\n",
              "    .colab-df-convert {\n",
              "      background-color: #E8F0FE;\n",
              "      border: none;\n",
              "      border-radius: 50%;\n",
              "      cursor: pointer;\n",
              "      display: none;\n",
              "      fill: #1967D2;\n",
              "      height: 32px;\n",
              "      padding: 0 0 0 0;\n",
              "      width: 32px;\n",
              "    }\n",
              "\n",
              "    .colab-df-convert:hover {\n",
              "      background-color: #E2EBFA;\n",
              "      box-shadow: 0px 1px 2px rgba(60, 64, 67, 0.3), 0px 1px 3px 1px rgba(60, 64, 67, 0.15);\n",
              "      fill: #174EA6;\n",
              "    }\n",
              "\n",
              "    .colab-df-buttons div {\n",
              "      margin-bottom: 4px;\n",
              "    }\n",
              "\n",
              "    [theme=dark] .colab-df-convert {\n",
              "      background-color: #3B4455;\n",
              "      fill: #D2E3FC;\n",
              "    }\n",
              "\n",
              "    [theme=dark] .colab-df-convert:hover {\n",
              "      background-color: #434B5C;\n",
              "      box-shadow: 0px 1px 3px 1px rgba(0, 0, 0, 0.15);\n",
              "      filter: drop-shadow(0px 1px 2px rgba(0, 0, 0, 0.3));\n",
              "      fill: #FFFFFF;\n",
              "    }\n",
              "  </style>\n",
              "\n",
              "    <script>\n",
              "      const buttonEl =\n",
              "        document.querySelector('#df-b2caa8cd-ab0a-459e-94bf-5297f3e8c663 button.colab-df-convert');\n",
              "      buttonEl.style.display =\n",
              "        google.colab.kernel.accessAllowed ? 'block' : 'none';\n",
              "\n",
              "      async function convertToInteractive(key) {\n",
              "        const element = document.querySelector('#df-b2caa8cd-ab0a-459e-94bf-5297f3e8c663');\n",
              "        const dataTable =\n",
              "          await google.colab.kernel.invokeFunction('convertToInteractive',\n",
              "                                                    [key], {});\n",
              "        if (!dataTable) return;\n",
              "\n",
              "        const docLinkHtml = 'Like what you see? Visit the ' +\n",
              "          '<a target=\"_blank\" href=https://colab.research.google.com/notebooks/data_table.ipynb>data table notebook</a>'\n",
              "          + ' to learn more about interactive tables.';\n",
              "        element.innerHTML = '';\n",
              "        dataTable['output_type'] = 'display_data';\n",
              "        await google.colab.output.renderOutput(dataTable, element);\n",
              "        const docLink = document.createElement('div');\n",
              "        docLink.innerHTML = docLinkHtml;\n",
              "        element.appendChild(docLink);\n",
              "      }\n",
              "    </script>\n",
              "  </div>\n",
              "\n",
              "\n",
              "<div id=\"df-4f24c5bf-59d6-40bb-ae06-2ba53f4e0bd4\">\n",
              "  <button class=\"colab-df-quickchart\" onclick=\"quickchart('df-4f24c5bf-59d6-40bb-ae06-2ba53f4e0bd4')\"\n",
              "            title=\"Suggest charts\"\n",
              "            style=\"display:none;\">\n",
              "\n",
              "<svg xmlns=\"http://www.w3.org/2000/svg\" height=\"24px\"viewBox=\"0 0 24 24\"\n",
              "     width=\"24px\">\n",
              "    <g>\n",
              "        <path d=\"M19 3H5c-1.1 0-2 .9-2 2v14c0 1.1.9 2 2 2h14c1.1 0 2-.9 2-2V5c0-1.1-.9-2-2-2zM9 17H7v-7h2v7zm4 0h-2V7h2v10zm4 0h-2v-4h2v4z\"/>\n",
              "    </g>\n",
              "</svg>\n",
              "  </button>\n",
              "\n",
              "<style>\n",
              "  .colab-df-quickchart {\n",
              "      --bg-color: #E8F0FE;\n",
              "      --fill-color: #1967D2;\n",
              "      --hover-bg-color: #E2EBFA;\n",
              "      --hover-fill-color: #174EA6;\n",
              "      --disabled-fill-color: #AAA;\n",
              "      --disabled-bg-color: #DDD;\n",
              "  }\n",
              "\n",
              "  [theme=dark] .colab-df-quickchart {\n",
              "      --bg-color: #3B4455;\n",
              "      --fill-color: #D2E3FC;\n",
              "      --hover-bg-color: #434B5C;\n",
              "      --hover-fill-color: #FFFFFF;\n",
              "      --disabled-bg-color: #3B4455;\n",
              "      --disabled-fill-color: #666;\n",
              "  }\n",
              "\n",
              "  .colab-df-quickchart {\n",
              "    background-color: var(--bg-color);\n",
              "    border: none;\n",
              "    border-radius: 50%;\n",
              "    cursor: pointer;\n",
              "    display: none;\n",
              "    fill: var(--fill-color);\n",
              "    height: 32px;\n",
              "    padding: 0;\n",
              "    width: 32px;\n",
              "  }\n",
              "\n",
              "  .colab-df-quickchart:hover {\n",
              "    background-color: var(--hover-bg-color);\n",
              "    box-shadow: 0 1px 2px rgba(60, 64, 67, 0.3), 0 1px 3px 1px rgba(60, 64, 67, 0.15);\n",
              "    fill: var(--button-hover-fill-color);\n",
              "  }\n",
              "\n",
              "  .colab-df-quickchart-complete:disabled,\n",
              "  .colab-df-quickchart-complete:disabled:hover {\n",
              "    background-color: var(--disabled-bg-color);\n",
              "    fill: var(--disabled-fill-color);\n",
              "    box-shadow: none;\n",
              "  }\n",
              "\n",
              "  .colab-df-spinner {\n",
              "    border: 2px solid var(--fill-color);\n",
              "    border-color: transparent;\n",
              "    border-bottom-color: var(--fill-color);\n",
              "    animation:\n",
              "      spin 1s steps(1) infinite;\n",
              "  }\n",
              "\n",
              "  @keyframes spin {\n",
              "    0% {\n",
              "      border-color: transparent;\n",
              "      border-bottom-color: var(--fill-color);\n",
              "      border-left-color: var(--fill-color);\n",
              "    }\n",
              "    20% {\n",
              "      border-color: transparent;\n",
              "      border-left-color: var(--fill-color);\n",
              "      border-top-color: var(--fill-color);\n",
              "    }\n",
              "    30% {\n",
              "      border-color: transparent;\n",
              "      border-left-color: var(--fill-color);\n",
              "      border-top-color: var(--fill-color);\n",
              "      border-right-color: var(--fill-color);\n",
              "    }\n",
              "    40% {\n",
              "      border-color: transparent;\n",
              "      border-right-color: var(--fill-color);\n",
              "      border-top-color: var(--fill-color);\n",
              "    }\n",
              "    60% {\n",
              "      border-color: transparent;\n",
              "      border-right-color: var(--fill-color);\n",
              "    }\n",
              "    80% {\n",
              "      border-color: transparent;\n",
              "      border-right-color: var(--fill-color);\n",
              "      border-bottom-color: var(--fill-color);\n",
              "    }\n",
              "    90% {\n",
              "      border-color: transparent;\n",
              "      border-bottom-color: var(--fill-color);\n",
              "    }\n",
              "  }\n",
              "</style>\n",
              "\n",
              "  <script>\n",
              "    async function quickchart(key) {\n",
              "      const quickchartButtonEl =\n",
              "        document.querySelector('#' + key + ' button');\n",
              "      quickchartButtonEl.disabled = true;  // To prevent multiple clicks.\n",
              "      quickchartButtonEl.classList.add('colab-df-spinner');\n",
              "      try {\n",
              "        const charts = await google.colab.kernel.invokeFunction(\n",
              "            'suggestCharts', [key], {});\n",
              "      } catch (error) {\n",
              "        console.error('Error during call to suggestCharts:', error);\n",
              "      }\n",
              "      quickchartButtonEl.classList.remove('colab-df-spinner');\n",
              "      quickchartButtonEl.classList.add('colab-df-quickchart-complete');\n",
              "    }\n",
              "    (() => {\n",
              "      let quickchartButtonEl =\n",
              "        document.querySelector('#df-4f24c5bf-59d6-40bb-ae06-2ba53f4e0bd4 button');\n",
              "      quickchartButtonEl.style.display =\n",
              "        google.colab.kernel.accessAllowed ? 'block' : 'none';\n",
              "    })();\n",
              "  </script>\n",
              "</div>\n",
              "\n",
              "    </div>\n",
              "  </div>\n"
            ],
            "application/vnd.google.colaboratory.intrinsic+json": {
              "type": "dataframe",
              "summary": "{\n  \"name\": \"data\",\n  \"rows\": 11,\n  \"fields\": [\n    {\n      \"column\": \"gender\",\n      \"properties\": {\n        \"dtype\": \"category\",\n        \"num_unique_values\": 4,\n        \"samples\": [\n          2,\n          \"518\",\n          \"1000\"\n        ],\n        \"semantic_type\": \"\",\n        \"description\": \"\"\n      }\n    },\n    {\n      \"column\": \"race/ethnicity\",\n      \"properties\": {\n        \"dtype\": \"category\",\n        \"num_unique_values\": 4,\n        \"samples\": [\n          5,\n          \"319\",\n          \"1000\"\n        ],\n        \"semantic_type\": \"\",\n        \"description\": \"\"\n      }\n    },\n    {\n      \"column\": \"parental level of education\",\n      \"properties\": {\n        \"dtype\": \"category\",\n        \"num_unique_values\": 4,\n        \"samples\": [\n          6,\n          \"226\",\n          \"1000\"\n        ],\n        \"semantic_type\": \"\",\n        \"description\": \"\"\n      }\n    },\n    {\n      \"column\": \"lunch\",\n      \"properties\": {\n        \"dtype\": \"category\",\n        \"num_unique_values\": 4,\n        \"samples\": [\n          2,\n          \"645\",\n          \"1000\"\n        ],\n        \"semantic_type\": \"\",\n        \"description\": \"\"\n      }\n    },\n    {\n      \"column\": \"test preparation course\",\n      \"properties\": {\n        \"dtype\": \"category\",\n        \"num_unique_values\": 4,\n        \"samples\": [\n          2,\n          \"642\",\n          \"1000\"\n        ],\n        \"semantic_type\": \"\",\n        \"description\": \"\"\n      }\n    },\n    {\n      \"column\": \"math score\",\n      \"properties\": {\n        \"dtype\": \"number\",\n        \"std\": 335.8676421540409,\n        \"min\": 0.0,\n        \"max\": 1000.0,\n        \"num_unique_values\": 8,\n        \"samples\": [\n          66.089,\n          66.0,\n          1000.0\n        ],\n        \"semantic_type\": \"\",\n        \"description\": \"\"\n      }\n    },\n    {\n      \"column\": \"reading score\",\n      \"properties\": {\n        \"dtype\": \"number\",\n        \"std\": 334.20047162629425,\n        \"min\": 14.600191937252216,\n        \"max\": 1000.0,\n        \"num_unique_values\": 8,\n        \"samples\": [\n          69.169,\n          70.0,\n          1000.0\n        ],\n        \"semantic_type\": \"\",\n        \"description\": \"\"\n      }\n    },\n    {\n      \"column\": \"writing score\",\n      \"properties\": {\n        \"dtype\": \"number\",\n        \"std\": 334.8025670597152,\n        \"min\": 10.0,\n        \"max\": 1000.0,\n        \"num_unique_values\": 8,\n        \"samples\": [\n          68.054,\n          69.0,\n          1000.0\n        ],\n        \"semantic_type\": \"\",\n        \"description\": \"\"\n      }\n    }\n  ]\n}"
            }
          },
          "metadata": {},
          "execution_count": 6
        }
      ]
    },
    {
      "cell_type": "markdown",
      "source": [
        "Here data type of all columns and value counts of every items for categorical columns and min, max and variance of numerical columns are printed."
      ],
      "metadata": {
        "id": "3oMNU791-9Yr"
      }
    },
    {
      "cell_type": "code",
      "source": [
        "row,column = data.shape\n",
        "columns = data.columns\n",
        "print(f'The dataframe has \"{row}\" rows and \"{column}\" columns')\n",
        "for column in columns:\n",
        "  print(f'  Data type of \"{column}\" is : \"{data[column].dtype}\".')\n",
        "  if data[column].dtype == 'int64':\n",
        "    print(f'  Statistics of \"{column}\" : ')\n",
        "    print(f'    Max value: {data[column].max()}')\n",
        "    print(f'    Min value: {data[column].min()}')\n",
        "    #print(f'    Mean: {data[column].mean()}')\n",
        "    #print(f'    Median: {data[column].median()}')\n",
        "    print(f'    Sum: {data[column].sum()}')\n",
        "    #print(f'    Standard Deviation: {data[column].std()}')\n",
        "    print(f'    Variance: {data[column].var()}')\n",
        "    print('\\n\\n')\n",
        "  else:\n",
        "    count_values = data[column].value_counts()\n",
        "    print(f'  Count of unique values in \"{column}\" : ')\n",
        "    for item,count in count_values.items():\n",
        "      print(f'    \"{item}\" : {count}.')\n",
        "    print('\\n\\n')"
      ],
      "metadata": {
        "colab": {
          "base_uri": "https://localhost:8080/"
        },
        "id": "DqARb-Bria4z",
        "outputId": "a842f856-0de3-4a6d-f43e-ef74908e0245"
      },
      "execution_count": null,
      "outputs": [
        {
          "output_type": "stream",
          "name": "stdout",
          "text": [
            "The dataframe has \"1000\" rows and \"8\" columns\n",
            "  Data type of \"gender\" is : \"object\".\n",
            "  Count of unique values in \"gender\" : \n",
            "    \"female\" : 518.\n",
            "    \"male\" : 482.\n",
            "\n",
            "\n",
            "\n",
            "  Data type of \"race/ethnicity\" is : \"object\".\n",
            "  Count of unique values in \"race/ethnicity\" : \n",
            "    \"group C\" : 319.\n",
            "    \"group D\" : 262.\n",
            "    \"group B\" : 190.\n",
            "    \"group E\" : 140.\n",
            "    \"group A\" : 89.\n",
            "\n",
            "\n",
            "\n",
            "  Data type of \"parental level of education\" is : \"object\".\n",
            "  Count of unique values in \"parental level of education\" : \n",
            "    \"some college\" : 226.\n",
            "    \"associate's degree\" : 222.\n",
            "    \"high school\" : 196.\n",
            "    \"some high school\" : 179.\n",
            "    \"bachelor's degree\" : 118.\n",
            "    \"master's degree\" : 59.\n",
            "\n",
            "\n",
            "\n",
            "  Data type of \"lunch\" is : \"object\".\n",
            "  Count of unique values in \"lunch\" : \n",
            "    \"standard\" : 645.\n",
            "    \"free/reduced\" : 355.\n",
            "\n",
            "\n",
            "\n",
            "  Data type of \"test preparation course\" is : \"object\".\n",
            "  Count of unique values in \"test preparation course\" : \n",
            "    \"none\" : 642.\n",
            "    \"completed\" : 358.\n",
            "\n",
            "\n",
            "\n",
            "  Data type of \"math score\" is : \"int64\".\n",
            "  Statistics of \"math score\" : \n",
            "    Max value: 100\n",
            "    Min value: 0\n",
            "    Sum: 66089\n",
            "    Variance: 229.91899799799796\n",
            "\n",
            "\n",
            "\n",
            "  Data type of \"reading score\" is : \"int64\".\n",
            "  Statistics of \"reading score\" : \n",
            "    Max value: 100\n",
            "    Min value: 17\n",
            "    Sum: 69169\n",
            "    Variance: 213.16560460460462\n",
            "\n",
            "\n",
            "\n",
            "  Data type of \"writing score\" is : \"int64\".\n",
            "  Statistics of \"writing score\" : \n",
            "    Max value: 100\n",
            "    Min value: 10\n",
            "    Sum: 68054\n",
            "    Variance: 230.907991991992\n",
            "\n",
            "\n",
            "\n"
          ]
        }
      ]
    },
    {
      "cell_type": "markdown",
      "source": [
        "# Data Visualization"
      ],
      "metadata": {
        "id": "yn4JY4i4fgep"
      }
    },
    {
      "cell_type": "markdown",
      "source": [
        "## The distribution of male and female students (Bar)\n",
        "here bar plot of number of male and female students are shown. matplotlib.pyplot give functions like figure() to specify figure/plot size, bar() for plotting bar chart, xlabel() to insert label of x-axis, ylabel() to insert label of y-axis and title() for to set the title of the plot and finally show() function print the defined plot. bar() function takes parameters of classes, frequency count of classes, color etc."
      ],
      "metadata": {
        "id": "uFEFqllyfi-p"
      }
    },
    {
      "cell_type": "code",
      "source": [
        "counts = data['gender'].value_counts()\n",
        "male_count = counts['male']\n",
        "female_count = counts['female']\n",
        "\n",
        "plt.figure(figsize=(6, 5))\n",
        "class_labels = ['Male', 'Female']\n",
        "class_counts = [male_count, female_count]\n",
        "plt.bar(class_labels, class_counts, color=['skyblue', 'lightcoral'], align = 'center')\n",
        "plt.xlabel('Gender')\n",
        "plt.ylabel('Number of Students')\n",
        "plt.title('Distribution of Male and Female Students')\n",
        "plt.show()"
      ],
      "metadata": {
        "colab": {
          "base_uri": "https://localhost:8080/",
          "height": 487
        },
        "id": "lf00t-aNq1WK",
        "outputId": "dc396a50-2d3e-43f6-e4cf-a3e3d1170047"
      },
      "execution_count": null,
      "outputs": [
        {
          "output_type": "display_data",
          "data": {
            "text/plain": [
              "<Figure size 600x500 with 1 Axes>"
            ],
            "image/png": "[encoded data removed]"
          },
          "metadata": {}
        }
      ]
    },
    {
      "cell_type": "markdown",
      "source": [
        "## The distribution of the scores in math, reading, and writing. (Histogram)\n",
        "hist() function plot the histogram of a column of the dataset to show the frequency in different range. it parameters are of input data, color, etc. actually it's parameters are almost same as bar()."
      ],
      "metadata": {
        "id": "oCQDfLlZfqvI"
      }
    },
    {
      "cell_type": "code",
      "source": [
        "plt.figure(figsize=(7,5))\n",
        "plt.hist(data['math score'], color = 'tan')\n",
        "plt.title('Distribution of Math Score')\n",
        "plt.xlabel('Math Score')\n",
        "plt.ylabel('Number of Students')\n",
        "plt.show()"
      ],
      "metadata": {
        "colab": {
          "base_uri": "https://localhost:8080/",
          "height": 487
        },
        "id": "icQszETdfyln",
        "outputId": "d39a6dc0-376d-477d-bd53-e0a16d702bef"
      },
      "execution_count": null,
      "outputs": [
        {
          "output_type": "display_data",
          "data": {
            "text/plain": [
              "<Figure size 700x500 with 1 Axes>"
            ],
            "image/png": "[encoded data removed]"
          },
          "metadata": {}
        }
      ]
    },
    {
      "cell_type": "markdown",
      "source": [
        "The distribution of scores is centered around 60-80, which suggests that this is the score that most students achieved. There are more students who scored in the 60-80 range than in any other range.\n",
        "\n",
        "The distribution appears to be symmetrical, which means that there are just as many students who scored lower than 60-80 as there are who scored higher.\n",
        "\n",
        "There is a wider spread of scores at the lower end of the distribution than at the higher end. This suggests that there are more variation in the performance of students who scored lower on the math exam."
      ],
      "metadata": {
        "id": "mt4_R-1zi72W"
      }
    },
    {
      "cell_type": "code",
      "source": [
        "plt.figure(figsize=(7,5))\n",
        "plt.hist(data['reading score'])\n",
        "plt.title('Distribution of Reading Score')\n",
        "plt.xlabel('Reading Score')\n",
        "plt.ylabel('Number of Students')\n",
        "plt.show()"
      ],
      "metadata": {
        "colab": {
          "base_uri": "https://localhost:8080/",
          "height": 487
        },
        "id": "ZsHdr_f7vdc-",
        "outputId": "f043a246-03a0-4a6b-ab88-dee2a0fa84a9"
      },
      "execution_count": null,
      "outputs": [
        {
          "output_type": "display_data",
          "data": {
            "text/plain": [
              "<Figure size 700x500 with 1 Axes>"
            ],
            "image/png": "[encoded data removed]"
          },
          "metadata": {}
        }
      ]
    },
    {
      "cell_type": "markdown",
      "source": [
        "The distribution of scores is centered around 55-75, which suggests that this is the score that most students achieved. There are more students who scored in the 55-75 range than in any other range."
      ],
      "metadata": {
        "id": "TyC_EmVljxPF"
      }
    },
    {
      "cell_type": "code",
      "source": [
        "plt.figure(figsize=(7,5))\n",
        "plt.hist(data['writing score'], color = 'lime')\n",
        "plt.title('Distribution of Writing Score')\n",
        "plt.xlabel('Writing Score')\n",
        "plt.ylabel('Number of Students')\n",
        "plt.show()"
      ],
      "metadata": {
        "colab": {
          "base_uri": "https://localhost:8080/",
          "height": 487
        },
        "id": "aW059cZ_yQLS",
        "outputId": "6e589bbd-fed9-4edf-de9d-ad944ec04175"
      },
      "execution_count": null,
      "outputs": [
        {
          "output_type": "display_data",
          "data": {
            "text/plain": [
              "<Figure size 700x500 with 1 Axes>"
            ],
            "image/png": "[encoded data removed]"
          },
          "metadata": {}
        }
      ]
    },
    {
      "cell_type": "markdown",
      "source": [
        "The distribution of scores is centered around 55-80, which suggests that this is the score that most students achieved. There are more students who scored in the 55-80 range than in any other range."
      ],
      "metadata": {
        "id": "RxplpQc5kBvr"
      }
    },
    {
      "cell_type": "markdown",
      "source": [
        "legend() shows which color is representing which class/column in the plot."
      ],
      "metadata": {
        "id": "ihbQG9LGCW5W"
      }
    },
    {
      "cell_type": "code",
      "source": [
        "plt.figure(figsize=(10,5))\n",
        "plt.hist([data['math score'],data['reading score'],data['writing score']], color = ['lime','tan','blue'], label = ['Math','Reading','Writing'])\n",
        "plt.title('Distribution of Math, Reading & Writing Score')\n",
        "plt.legend(prop={'size': 10})\n",
        "#plt.xlabel('Math Score')\n",
        "plt.ylabel('Number of Students')\n",
        "plt.show()"
      ],
      "metadata": {
        "colab": {
          "base_uri": "https://localhost:8080/",
          "height": 468
        },
        "id": "abkgpD91yP7U",
        "outputId": "133134fb-1cf9-4a04-e602-8c2081fff433"
      },
      "execution_count": null,
      "outputs": [
        {
          "output_type": "display_data",
          "data": {
            "text/plain": [
              "<Figure size 1000x500 with 1 Axes>"
            ],
            "image/png": "[encoded data removed]"
          },
          "metadata": {}
        }
      ]
    },
    {
      "cell_type": "markdown",
      "source": [
        "This plot reveals comparatively better results in Reading and Writing for students with higher marks. However, for the majority of students, the average Math score appears to be quite good."
      ],
      "metadata": {
        "id": "yzJuekkEkYB3"
      }
    },
    {
      "cell_type": "markdown",
      "source": [
        "## Average scores in math, reading, and writing for each gender. (Bar)\n",
        "groupby() takes input one of the column name as parameter and differentiate data points based on the values or classes of this column. mean() gives output of mean of some data points. array[:] is the slicing property of list or arrays. subplot() takes 3 parameter -> number of rows, number of columns int the plot and last one is subplot number in the current row."
      ],
      "metadata": {
        "id": "j8pyFkMTf1K4"
      }
    },
    {
      "cell_type": "code",
      "source": [
        "avg_math_score = data.groupby('gender')['math score'].mean()\n",
        "avg_reading_score = data.groupby('gender')['reading score'].mean()\n",
        "avg_writing_score = data.groupby('gender')['writing score'].mean()\n",
        "\n",
        "plt.figure(figsize=(12,5))\n",
        "plt.subplot(1,3,1)\n",
        "plt.bar(['female','male'],avg_math_score[:])\n",
        "#plt.xlabel('Average Math Score')\n",
        "plt.ylabel('Avg Scores')\n",
        "plt.title('Math Score')\n",
        "\n",
        "plt.subplot(1,3,2)\n",
        "plt.bar(['female','male'],avg_reading_score[:])\n",
        "plt.xlabel('Gender')\n",
        "plt.title('Reading Score')\n",
        "\n",
        "plt.subplot(1,3,3)\n",
        "plt.bar(['female','male'],avg_writing_score[:])\n",
        "#plt.xlabel('Gender')\n",
        "plt.title('Writing Score')\n",
        "\n",
        "plt.suptitle('Gender wise Average Scores')\n",
        "plt.show()\n"
      ],
      "metadata": {
        "colab": {
          "base_uri": "https://localhost:8080/",
          "height": 534
        },
        "id": "jGBz4koOf95m",
        "outputId": "5fd45275-753f-4072-d0e3-8811858278ec"
      },
      "execution_count": null,
      "outputs": [
        {
          "output_type": "display_data",
          "data": {
            "text/plain": [
              "<Figure size 1200x500 with 3 Axes>"
            ],
            "image/png": "[encoded data removed]"
          },
          "metadata": {}
        },
        {
          "output_type": "execute_result",
          "data": {
            "text/plain": [
              "'\\nprint(avg_math_score)\\nprint(avg_reading_score)\\nprint(avg_writing_score)\\n'"
            ],
            "application/vnd.google.colaboratory.intrinsic+json": {
              "type": "string"
            }
          },
          "metadata": {},
          "execution_count": 145
        }
      ]
    },
    {
      "cell_type": "markdown",
      "source": [
        "The average score for females is better than males in all subjects except math. In math, males achieve a slightly higher average score than females. However, females outperform their male counterparts in reading and writing, with a noticeably greater average score.\n"
      ],
      "metadata": {
        "id": "GnL8_i3ClISM"
      }
    },
    {
      "cell_type": "markdown",
      "source": [
        "## The relationship between math, reading, and writing scores (Scatter Plot)\n",
        "The scatter plot prints all the data points. Here is the option to print data points of different classes with different colors in the same figure."
      ],
      "metadata": {
        "id": "r7W1BRP0gF--"
      }
    },
    {
      "cell_type": "code",
      "source": [
        "print(len(data['math score']))"
      ],
      "metadata": {
        "colab": {
          "base_uri": "https://localhost:8080/"
        },
        "id": "iH1aXl-M9T4E",
        "outputId": "97f3d10f-4d22-4901-a437-075e194dd8dd"
      },
      "execution_count": null,
      "outputs": [
        {
          "output_type": "stream",
          "name": "stdout",
          "text": [
            "1000\n"
          ]
        }
      ]
    },
    {
      "cell_type": "code",
      "source": [
        "students = np.arange(1000).reshape(1,1000)\n",
        "plt.figure(figsize=(15,5))\n",
        "plt.scatter(students, data['math score'], color = 'red')\n",
        "plt.scatter(students, data['reading score'], color = 'lime')\n",
        "plt.scatter(students, data['writing score'], color = 'blue')\n",
        "plt.title('Relationships Among Math, Reading and Writing Scores')\n",
        "plt.xlabel('Student Number')\n",
        "plt.ylabel('Score')\n",
        "plt.show()\n",
        "#print(students.shape)"
      ],
      "metadata": {
        "colab": {
          "base_uri": "https://localhost:8080/",
          "height": 439
        },
        "id": "WyP5x_qI7VmJ",
        "outputId": "39f85933-4cf3-4e1e-ef50-73799b76bb8c"
      },
      "execution_count": null,
      "outputs": [
        {
          "output_type": "display_data",
          "data": {
            "text/plain": [
              "<Figure size 1500x500 with 1 Axes>"
            ],
            "image/png": "[encoded data removed]"
          },
          "metadata": {}
        }
      ]
    },
    {
      "cell_type": "markdown",
      "source": [
        "This plot shows that the range of 60-80 is the most densely populated. It also depicts that some students achieved a 100% score, while a noticeable number of students scored below 40%."
      ],
      "metadata": {
        "id": "aIRqP17rmXYa"
      }
    },
    {
      "cell_type": "markdown",
      "source": [
        "# Basic Statistical Analysis"
      ],
      "metadata": {
        "id": "LfVkYPhMALeg"
      }
    },
    {
      "cell_type": "markdown",
      "source": [
        "## Finding Mean, Median and Mode\n",
        "mean() find the average of the column/list, median() the midle element in the sorted list of array(1D). mode() find the most frequent number in the list or array or columns containing numerical data."
      ],
      "metadata": {
        "id": "l-xTDa_GDLmS"
      }
    },
    {
      "cell_type": "code",
      "source": [
        "print('=============Math============')\n",
        "mean = data['math score'].mean()\n",
        "print(f'Mean of Math Score : {mean}')\n",
        "median = data['math score'].median()\n",
        "print(f'Median of Math Score : {median}')\n",
        "mode = data['math score'].mode()\n",
        "print(f'Mode of Math Score : {mode}')\n",
        "print('\\n\\n')\n",
        "\n",
        "print('=============Reading============')\n",
        "mean = data['reading score'].mean()\n",
        "print(f'Mean of Reading Score : {mean}')\n",
        "median = data['reading score'].median()\n",
        "print(f'Median of Reading Score : {median}')\n",
        "mode = data['reading score'].mode()\n",
        "print(f'Mode of Reading Score : {mode}')\n",
        "print('\\n\\n')\n",
        "\n",
        "print('=============Writing============')\n",
        "mean = data['writing score'].mean()\n",
        "print(f'Mean of Writing Score : {mean}')\n",
        "median = data['writing score'].median()\n",
        "print(f'Median of Writing Score : {median}')\n",
        "mode = data['writing score'].mode()\n",
        "print(f'Mode of Writing Score : {mode}')"
      ],
      "metadata": {
        "colab": {
          "base_uri": "https://localhost:8080/"
        },
        "id": "oqC4k6kgAOaz",
        "outputId": "80997ba9-c23b-4af5-c41f-8f7d4ec2d654"
      },
      "execution_count": null,
      "outputs": [
        {
          "output_type": "stream",
          "name": "stdout",
          "text": [
            "=============Math============\n",
            "Mean of Math Score : 66.165\n",
            "Median of Math Score : 66.0\n",
            "Mode of Math Score : 0    65\n",
            "Name: math score, dtype: int64\n",
            "\n",
            "\n",
            "\n",
            "=============Reading============\n",
            "Mean of Reading Score : 69.201\n",
            "Median of Reading Score : 70.0\n",
            "Mode of Reading Score : 0    72\n",
            "Name: reading score, dtype: int64\n",
            "\n",
            "\n",
            "\n",
            "=============Writing============\n",
            "Mean of Writing Score : 68.09\n",
            "Median of Writing Score : 69.0\n",
            "Mode of Writing Score : 0    74\n",
            "Name: writing score, dtype: int64\n"
          ]
        }
      ]
    },
    {
      "cell_type": "markdown",
      "source": [
        "## Finding Standard Deviation\n",
        "std() function find the standard deviation of a list of dataframe column of numerical type"
      ],
      "metadata": {
        "id": "a_8lfDQwDTAs"
      }
    },
    {
      "cell_type": "code",
      "source": [
        "math = data['math score'].std()\n",
        "print(f'Standard Deviation of Math Scores : {math}\\n')\n",
        "reading = data['reading score'].std()\n",
        "print(f'Standard Deviation of Reading Scores : {reading}\\n')\n",
        "writing = data['writing score'].std()\n",
        "print(f'Standard Deviation of Writing Scores : {writing}')"
      ],
      "metadata": {
        "colab": {
          "base_uri": "https://localhost:8080/"
        },
        "id": "gBQT1VqdDYPX",
        "outputId": "9cccde36-9bc9-4d80-e9bb-abf8f7857549"
      },
      "execution_count": null,
      "outputs": [
        {
          "output_type": "stream",
          "name": "stdout",
          "text": [
            "Standard Deviation of Math Scores : 14.92241446460503\n",
            "\n",
            "Standard Deviation of Reading Scores : 14.503480615009279\n",
            "\n",
            "Standard Deviation of Writing Scores : 15.080760237114353\n"
          ]
        }
      ]
    },
    {
      "cell_type": "markdown",
      "source": [
        "## T-test to find significant difference between male and female students\n",
        "A t-test is an inferential statistic used to determine if there is a significant difference between the means of two groups and how they are related. T-tests are used when the data sets follow a normal distribution and have unknown variances, like the data set recorded from flipping a coin 100 times.\n",
        "\n",
        "The t-test is a test used for hypothesis testing in statistics and uses the t-statistic, the t-distribution values, and the degrees of freedom to determine statistical significance."
      ],
      "metadata": {
        "id": "IaDtJIR7rLdL"
      }
    },
    {
      "cell_type": "markdown",
      "source": [
        "### Math Score"
      ],
      "metadata": {
        "id": "BZA8zkjcMIcl"
      }
    },
    {
      "cell_type": "code",
      "source": [
        "from scipy.stats import ttest_ind\n",
        "import scipy.stats as stats\n",
        "# Manual\n",
        "\n",
        "femaleMean, maleMean = data.groupby('gender')['math score'].mean()\n",
        "\n",
        "femaleVar, maleVar = data.groupby('gender')['math score'].var()\n",
        "\n",
        "nfemale, nmale = data['gender'].value_counts()\n",
        "\n",
        "#print(maleMean, femaleMean)\n",
        "#print(maleVar, femaleVar)\n",
        "#print(nfemale, nmale)\n",
        "\n",
        "#print(data['gender'].value_counts())\n",
        "t_stat = (maleMean - femaleMean) / (((femaleVar / nfemale) + (maleVar / nmale))**(1/2))\n",
        "#degrees of freedom\n",
        "df = nmale + nfemale - 2\n",
        "\n",
        "p_value = (1 - stats.t.cdf(abs(t_stat), df)) * 2\n",
        "print(f'T-Score : {t_stat},  P-Value : {p_value}')\n",
        "#print(t_stat, cv, p)"
      ],
      "metadata": {
        "colab": {
          "base_uri": "https://localhost:8080/"
        },
        "id": "Obss7YHkrZts",
        "outputId": "81889a0e-d79c-4b78-8ad1-f4e81940f69a"
      },
      "execution_count": null,
      "outputs": [
        {
          "output_type": "stream",
          "name": "stdout",
          "text": [
            "T-Score : 5.398000564160737,  P-Value : 8.420808739195706e-08\n"
          ]
        }
      ]
    },
    {
      "cell_type": "code",
      "source": [
        "# Using Library\n",
        "\n",
        "female, male = [],[]\n",
        "for i,x in data.iterrows():\n",
        "  #print(x)\n",
        "  if x['gender'] == 'female':\n",
        "    female.append(x['math score'])\n",
        "  elif x['gender'] == 'male':\n",
        "    male.append(x['math score'])\n",
        "#female = np.array(female).reshape(1,len(female))\n",
        "#print(len(female),len(male))\n",
        "\n",
        "t_stat, p_value = ttest_ind(male, female)\n",
        "print(f'For Math Score --> T-Value : {t_stat} , P-Value : {p_value}')"
      ],
      "metadata": {
        "colab": {
          "base_uri": "https://localhost:8080/"
        },
        "id": "J6ls_i8ZJYjn",
        "outputId": "20828e77-fa95-49ae-dc9c-f60113d45f76"
      },
      "execution_count": null,
      "outputs": [
        {
          "output_type": "stream",
          "name": "stdout",
          "text": [
            "For Math Score --> T-Score : 5.383245869828983 , P-Value : 9.120185549328822e-08\n"
          ]
        }
      ]
    },
    {
      "cell_type": "markdown",
      "source": [
        "### Reading Score\n",
        "iterrows() makes the dataframe iterable. list.append() adds element to the right of the list."
      ],
      "metadata": {
        "id": "FI8Bs1krO_f-"
      }
    },
    {
      "cell_type": "code",
      "source": [
        "female, male = [],[]\n",
        "for i,x in data.iterrows():\n",
        "  #print(x)\n",
        "  if x['gender'] == 'female':\n",
        "    female.append(x['reading score'])\n",
        "  elif x['gender'] == 'male':\n",
        "    male.append(x['reading score'])\n",
        "\n",
        "t_stat, p_value = ttest_ind(male, female)\n",
        "print(f'For Reading Score --> T-Value : {t_stat} , P-Value : {p_value}')"
      ],
      "metadata": {
        "colab": {
          "base_uri": "https://localhost:8080/"
        },
        "id": "ElAXe5whxhnx",
        "outputId": "0a81bfd7-e02d-450a-ba06-20edcad609f1"
      },
      "execution_count": null,
      "outputs": [
        {
          "output_type": "stream",
          "name": "stdout",
          "text": [
            "For Reading Score --> T-Score : -7.959308005187657 , P-Value : 4.680538743933289e-15\n"
          ]
        }
      ]
    },
    {
      "cell_type": "markdown",
      "source": [
        "### Writing Score"
      ],
      "metadata": {
        "id": "Lq_35pByPD30"
      }
    },
    {
      "cell_type": "code",
      "source": [
        "female, male = [],[]\n",
        "for i,x in data.iterrows():\n",
        "  #print(x)\n",
        "  if x['gender'] == 'female':\n",
        "    female.append(x['writing score'])\n",
        "  elif x['gender'] == 'male':\n",
        "    male.append(x['writing score'])\n",
        "#female = np.array(female).reshape(1,len(female))\n",
        "#print(len(female),len(male))\n",
        "\n",
        "t_stat, p_value = ttest_ind(male, female)\n",
        "print(f'For Writing Score --> T-Value : {t_stat} , P-Value : {p_value}')"
      ],
      "metadata": {
        "colab": {
          "base_uri": "https://localhost:8080/"
        },
        "id": "xdd1MdjLwWru",
        "outputId": "f74526d8-7302-48d3-eae3-21a0cec4c858"
      },
      "execution_count": null,
      "outputs": [
        {
          "output_type": "stream",
          "name": "stdout",
          "text": [
            "For Writing Score --> T-Score : -9.979557910004507 , P-Value : 2.019877706867934e-22\n"
          ]
        }
      ]
    },
    {
      "cell_type": "markdown",
      "source": [
        "Here, t-scores as p-values for math, reading, and writing scores are shown. It can be seen that in all cases, p-values are much less than the significance level. Therefore, it can be said that there are significant differences in all three cases."
      ],
      "metadata": {
        "id": "9wk3ap6VehDS"
      }
    },
    {
      "cell_type": "code",
      "source": [],
      "metadata": {
        "id": "3_UmCUOPfTIm"
      },
      "execution_count": null,
      "outputs": []
    }
  ]
}